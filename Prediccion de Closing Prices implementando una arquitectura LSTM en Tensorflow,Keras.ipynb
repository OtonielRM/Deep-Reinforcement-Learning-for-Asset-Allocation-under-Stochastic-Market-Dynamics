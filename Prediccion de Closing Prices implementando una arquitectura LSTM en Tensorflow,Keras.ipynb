{
  "nbformat": 4,
  "nbformat_minor": 0,
  "metadata": {
    "colab": {
      "provenance": [],
      "gpuType": "L4"
    },
    "kernelspec": {
      "name": "python3",
      "display_name": "Python 3"
    },
    "language_info": {
      "name": "python"
    },
    "accelerator": "GPU"
  },
  "cells": [
    {
      "cell_type": "markdown",
      "source": [
        "---\n",
        "# ***Predicción de closing prices implementando una arquitectura LSTM en Tensorflow / Keras***\n",
        "---\n",
        "<p style=\"text-align:right\"><i>Otoniel Ruiz Morales<br>Junio 2025</i></p>\n",
        "\n",
        "## Sobre este Notebook\n",
        "---\n",
        "Notebook realizado por **Otoniel Ruiz Morales** estudiante de ingenieria fisica en la Division de Ciencias e Ingenierias, Universidad de Guanajuato como parte del curso **Machine Learning** periodo Enero - Junio 2025. Impartido por el profesor Dr. Luis Carlos Padierna García.\n",
        "\n",
        "- Versión 1.0 del regresor utilizado para el proyecto \"***Deep Reinforcement Learning for Asset Allocation under Stochastic Market Dynamics***\"\n",
        "\n",
        "- **Resumen:**\n",
        "\n",
        "El *forecasting* o predicción de series de tiempo es un área de investigación activa desde hace décadas, impulsada por la necesidad de anticipar valores futuros en campos como la economía, la ingeniería y las ciencias.\n",
        "\n",
        "A partir de los años 80/90 las redes neuronales comenzaron a utilizarse en dicha area, dada su capacidad de modelar relaciones tanto lineales como no lineales sin requerir un conocimiento previo exhaustivo del fenómeno a modelar.\n",
        "\n",
        "Las redes ***Long-Short Term Memory (LSTM)*** son una iteración de las arquitecturas *Recurrent Neural Network (RNN)* diseñadas y optimizadas para la tarea en cuestión.\n",
        "Representan una solución al problema del *vanishing gradient* presente en la etapa de entrenamiento de las redes recurrentes, dónde los gradientes utilizados para actualizar los pesos se tornan extremadamente pequeños o \"*desaparecen*\".\n",
        "\n",
        "Como mencionamos anteriormente algunas de sus principales aplicaciones se encuentran dentro de la economia, en una rama conocida como *econometría*.\n",
        "\n",
        "En nuestro caso utilizamos una configuración ***Vector-Ouput Stacked LSTM***  para predecir el valor de \"*Closing Price*\" de una colección de acciones en distintas ventanas temporales.\n",
        "\n",
        "- **Índice**\n",
        "\n",
        "1. Extracción de las series temporales\n",
        "\n",
        "2. Preprocesamiento\n",
        "\n",
        "3. Configuración de las ventanas de tiempo\n",
        "\n",
        "4. Configuración del modelo\n",
        "\n",
        "5. Resultados\n"
      ],
      "metadata": {
        "id": "7-dEJk2vG4iH"
      }
    },
    {
      "cell_type": "code",
      "source": [
        "import IPython\n",
        "from sys import version\n",
        "import os\n",
        "\n",
        "import numpy as np\n",
        "from numpy import array\n",
        "import matplotlib.pyplot as plt\n",
        "import yfinance as yf\n",
        "import pandas as pd\n",
        "\n",
        "import tensorflow as tf\n",
        "import sklearn as skl\n",
        "import scipy as spy\n",
        "\n",
        "print (' Condiciones de reproductibilidad '.center(85,'-'))\n",
        "print ('Python version:       ' + version)\n",
        "print ('IPython version:      ' + IPython.__version__)\n",
        "print ('Numpy version:        ' + np.__version__)\n",
        "print ('Yfinance version:     ' + yf.__version__)\n",
        "print ('Pandas version:       ' + pd.__version__)\n",
        "print ('Tensorflow version:   ' + tf.__version__)\n",
        "print ('Sklearn version:      ' + skl.__version__)\n",
        "print ('Scipy version:        ' + spy.__version__)\n",
        "print ('-'*85)"
      ],
      "metadata": {
        "colab": {
          "base_uri": "https://localhost:8080/"
        },
        "id": "rGGr3dkBhj_5",
        "outputId": "b7352b2b-f5d4-43ef-f838-96ad5d792c06"
      },
      "execution_count": null,
      "outputs": [
        {
          "output_type": "stream",
          "name": "stdout",
          "text": [
            "-------------------------- Condiciones de reproductibilidad -------------------------\n",
            "Python version:       3.11.11 (main, Dec  4 2024, 08:55:07) [GCC 11.4.0]\n",
            "IPython version:      7.34.0\n",
            "Numpy version:        1.26.4\n",
            "Yfinance version:     0.2.54\n",
            "Pandas version:       2.2.2\n",
            "Tensorflow version:   2.18.0\n",
            "Sklearn version:      1.6.1\n",
            "Scipy version:        1.13.1\n",
            "-------------------------------------------------------------------------------------\n"
          ]
        }
      ]
    },
    {
      "cell_type": "code",
      "source": [
        "from tensorflow.keras.models import Sequential\n",
        "from tensorflow.keras.layers import LSTM\n",
        "from tensorflow.keras.layers import Dense\n",
        "from tensorflow.keras.layers import RepeatVector, TimeDistributed\n",
        "from sklearn.preprocessing import MinMaxScaler\n",
        "from sklearn.metrics import mean_squared_error, r2_score\n",
        "from sklearn.model_selection import train_test_split\n",
        "from scipy.stats import spearmanr"
      ],
      "metadata": {
        "id": "Qlt7O-jLiGG-"
      },
      "execution_count": null,
      "outputs": []
    },
    {
      "cell_type": "code",
      "source": [
        "def split_sequence(sequence, n_steps_in, n_steps_out):\n",
        "    X, y = list(), list()\n",
        "    for i in range(len(sequence)):\n",
        "        end_ix = i + n_steps_in\n",
        "        out_end_ix = end_ix + n_steps_out\n",
        "        if out_end_ix > len(sequence):\n",
        "            break\n",
        "        seq_x, seq_y = sequence[i:end_ix], sequence[end_ix:out_end_ix]\n",
        "        X.append(seq_x)\n",
        "        y.append(seq_y)\n",
        "    return array(X), array(y)"
      ],
      "metadata": {
        "id": "GSgcvqWtlRaZ"
      },
      "execution_count": null,
      "outputs": []
    },
    {
      "cell_type": "markdown",
      "source": [
        "## 1. Extracción de las series temporales"
      ],
      "metadata": {
        "id": "r7SZeJuElS7c"
      }
    },
    {
      "cell_type": "markdown",
      "source": [
        "A traves de la libreria yFinance extraemos los valores historicos diarios de 10 acciones pertencientes al *National Association of Securities Dealers Automated Quotations (NASDAQ)* del primero de Enero de 2005 al primero de Enero de 2025\n",
        "\n",
        "Los valores de cada acción quedan guardados como un *dataframe* de pandas y este es agregado a la lista *dataFrames*\n"
      ],
      "metadata": {
        "id": "l0Xpa4LHlyEj"
      }
    },
    {
      "cell_type": "code",
      "source": [
        "tickers = [\"AAPL\", \"AMZN\", \"NFLX\", \"MSFT\", \"NVDA\",\n",
        "           \"EBAY\", \"CSCO\", \"INTC\", \"SIRI\",\"ILMN\"]\n",
        "dataFrames = []\n",
        "\n",
        "for ticker in tickers:\n",
        "    data = yf.download(tickers=ticker, start=\"2005-01-01\", end=\"2025-01-01\")\n",
        "    df = pd.DataFrame(data)\n",
        "    dataFrames.append(df)\n",
        "print(f\"\\n\\nAlgunos valores de AAPL: \\n{dataFrames[0].head(10)}\")"
      ],
      "metadata": {
        "id": "KPI52Y00mh1G",
        "colab": {
          "base_uri": "https://localhost:8080/"
        },
        "outputId": "291eb4b8-73cd-4cb2-ca26-fd04c3a394ab"
      },
      "execution_count": null,
      "outputs": [
        {
          "output_type": "stream",
          "name": "stdout",
          "text": [
            "YF.download() has changed argument auto_adjust default to True\n"
          ]
        },
        {
          "output_type": "stream",
          "name": "stderr",
          "text": [
            "[*********************100%***********************]  1 of 1 completed\n",
            "[*********************100%***********************]  1 of 1 completed\n",
            "[*********************100%***********************]  1 of 1 completed\n",
            "[*********************100%***********************]  1 of 1 completed\n",
            "[*********************100%***********************]  1 of 1 completed\n",
            "[*********************100%***********************]  1 of 1 completed\n",
            "[*********************100%***********************]  1 of 1 completed\n",
            "[*********************100%***********************]  1 of 1 completed\n",
            "[*********************100%***********************]  1 of 1 completed\n",
            "[*********************100%***********************]  1 of 1 completed"
          ]
        },
        {
          "output_type": "stream",
          "name": "stdout",
          "text": [
            "\n",
            "\n",
            "Algunos valores de AAPL: \n",
            "Price          Close      High       Low      Open      Volume\n",
            "Ticker          AAPL      AAPL      AAPL      AAPL        AAPL\n",
            "Date                                                          \n",
            "2005-01-03  0.951065  0.978414  0.940696  0.973455   691992000\n",
            "2005-01-04  0.960833  0.983824  0.946256  0.958578  1096810400\n",
            "2005-01-05  0.969248  0.980518  0.962485  0.968646   680433600\n",
            "2005-01-06  0.969999  0.975409  0.951666  0.971802   705555200\n",
            "2005-01-07  1.040626  1.046337  0.973005  0.976761  2227450400\n",
            "2005-01-10  1.036268  1.062415  1.020039  1.049341  1725309600\n",
            "2005-01-11  0.970149  1.039123  0.963837  1.025599  2611627200\n",
            "2005-01-12  0.983674  0.990286  0.951215  0.983523  1919702400\n",
            "2005-01-13  1.048892  1.118317  1.047840  1.107647  3164716800\n",
            "2005-01-14  1.054902  1.077743  1.039725  1.055653  1770742400\n"
          ]
        },
        {
          "output_type": "stream",
          "name": "stderr",
          "text": [
            "\n"
          ]
        }
      ]
    },
    {
      "cell_type": "markdown",
      "source": [
        "## 2. Preprocesamiento"
      ],
      "metadata": {
        "id": "vgwdPLV2oB39"
      }
    },
    {
      "cell_type": "markdown",
      "source": [
        "Primeramente indicamos una normalización a la columna *Close* en un rango de -1 a 1 para acotar los valores extremos"
      ],
      "metadata": {
        "id": "j3CLa_ufoSit"
      }
    },
    {
      "cell_type": "code",
      "source": [
        "scaler = MinMaxScaler(feature_range=(-1, 1))"
      ],
      "metadata": {
        "id": "EI_Opq0Iodyl"
      },
      "execution_count": null,
      "outputs": []
    },
    {
      "cell_type": "markdown",
      "source": [
        "Agregaremos tres columnas a cada dataframe correspondientes a las tres medias móviles más usadas en el análisis técnico:\n",
        "\n",
        "1. **Media Móvil Simple (SMA)**\n",
        "\n",
        "Corresponde al promedio aritmético de un número fijo de puntos consecutivos, es útil para suavizar curvas con exceso de fluctuaciones o ruido, y para corroborar tendencias.\n",
        "$$\\text{SMA}_t = \\frac{1}{k} \\sum_{i = t - k + 1}^{t} x_i$$\n",
        "- $k$: Tamaño de la ventana (número de datos sobre los que se promedia)\n",
        "- $x_i$: Valores contenidos en la ventana\n",
        "\n",
        "2. **Media Móvil Ponderada (WMA)**\n",
        "\n",
        "Variante de la media móvil simple en la que se asignan pesos diferentes a los valores dependiendo su antiguedad, de modo que los datos más nuevos tienen mayor influencia en el promedio que los más viejos.\n",
        "\n",
        "$$\\text{WMA}_t = \\frac{\\sum_{i=0}^{k-1} w_i \\cdot x_{t - i}}{\\sum_{i=0}^{k-1} w_i}$$\n",
        "\n",
        "- $x_{t - i}$: Valor de la serie temporal en el tiempo $t - i$.\n",
        "- $w_i$: Peso asignado al dato $x_{t - i}$, con $w_0$ siendo el peso más reciente.\n",
        "- $k$: Tamaño de la ventana.\n",
        "\n",
        "\n",
        "3. **Media Móvil Exponencial (EMA)**\n",
        "\n",
        "Variante de la media móvil ponderada, no requiere de una ventana fija para calcularse, enfatisa los datos mas recientes y genera una curva mas suave y menos ruidosa que su antecesora\n",
        "\n",
        "$$\\text{EMA}_t = \\alpha \\cdot x_t + (1 - \\alpha) \\cdot \\text{EMA}_{t - 1}$$\n",
        "\n",
        "- $\\alpha$: Factor de suavizado, $0 < \\alpha < 1$, que controla el \"peso\" de los datos más recientes.\n",
        "- $\\text{EMA}_{t-1}$: EMA del periodo anterior.\n"
      ],
      "metadata": {
        "id": "wah3HQiRokg_"
      }
    },
    {
      "cell_type": "code",
      "source": [
        "WMA_weights = np.linspace(0.1, 1, 1000)\n",
        "WMA_window  = 1000\n",
        "WMA_sum_weigths = np.sum(WMA_weights)"
      ],
      "metadata": {
        "id": "wKKBKPb9pxZy"
      },
      "execution_count": null,
      "outputs": []
    },
    {
      "cell_type": "code",
      "source": [
        "for df in dataFrames:\n",
        "    df[\"Close\"] = scaler.fit_transform(df[[\"Close\"]])\n",
        "    df[\"WMA\"] = (df[\"Close\"].rolling(window=WMA_window, center=True)\n",
        "                            .apply(lambda x: np.sum(WMA_weights * x) / WMA_sum_weigths))\n",
        "    df[\"SMA\"] = df[\"Close\"].rolling(window=WMA_window).mean()\n",
        "    df[\"EMA\"] = df[\"Close\"].ewm(span=WMA_window).mean()\n",
        "\n",
        "\n",
        "print(f\"\\n\\nAlgunos valores de AAPL despues del preprocesamiento: \\n{dataFrames[0].head(10)}\")"
      ],
      "metadata": {
        "colab": {
          "base_uri": "https://localhost:8080/"
        },
        "id": "0CEfUF2fp1nx",
        "outputId": "a4c1710a-1bf8-40e3-f9dd-ed8b05635c58"
      },
      "execution_count": null,
      "outputs": [
        {
          "output_type": "stream",
          "name": "stdout",
          "text": [
            "\n",
            "\n",
            "Algunos valores de AAPL despues del preprocesamiento: \n",
            "Price          Close      High       Low      Open      Volume WMA SMA  \\\n",
            "Ticker          AAPL      AAPL      AAPL      AAPL        AAPL           \n",
            "Date                                                                     \n",
            "2005-01-03 -1.000000  0.978414  0.940696  0.973455   691992000 NaN NaN   \n",
            "2005-01-04 -0.999924  0.983824  0.946256  0.958578  1096810400 NaN NaN   \n",
            "2005-01-05 -0.999859  0.980518  0.962485  0.968646   680433600 NaN NaN   \n",
            "2005-01-06 -0.999853  0.975409  0.951666  0.971802   705555200 NaN NaN   \n",
            "2005-01-07 -0.999304  1.046337  0.973005  0.976761  2227450400 NaN NaN   \n",
            "2005-01-10 -0.999338  1.062415  1.020039  1.049341  1725309600 NaN NaN   \n",
            "2005-01-11 -0.999852  1.039123  0.963837  1.025599  2611627200 NaN NaN   \n",
            "2005-01-12 -0.999747  0.990286  0.951215  0.983523  1919702400 NaN NaN   \n",
            "2005-01-13 -0.999240  1.118317  1.047840  1.107647  3164716800 NaN NaN   \n",
            "2005-01-14 -0.999193  1.077743  1.039725  1.055653  1770742400 NaN NaN   \n",
            "\n",
            "Price            EMA  \n",
            "Ticker                \n",
            "Date                  \n",
            "2005-01-03 -1.000000  \n",
            "2005-01-04 -0.999962  \n",
            "2005-01-05 -0.999928  \n",
            "2005-01-06 -0.999909  \n",
            "2005-01-07 -0.999787  \n",
            "2005-01-10 -0.999712  \n",
            "2005-01-11 -0.999732  \n",
            "2005-01-12 -0.999734  \n",
            "2005-01-13 -0.999679  \n",
            "2005-01-14 -0.999630  \n"
          ]
        }
      ]
    },
    {
      "cell_type": "markdown",
      "source": [
        "## 3. Configuración de las ventanas de tiempo"
      ],
      "metadata": {
        "id": "9Oj5jIk4p851"
      }
    },
    {
      "cell_type": "markdown",
      "source": [
        "La predicción se realiza alimentando al modelo con un intervalo determinado de valores y en base a ellos devolver una aproximación de aquellos que les suceden en la serie de tiempo.\n",
        "\n",
        "Para ello se definen distintos puntos de referencia a lo largo de la serie a partir de los cuales se cuentan los intervalos usados para entrenamiento (en base a los cuales se hará la predicción) y prueba (los que se predecirán).\n",
        "\n",
        "Cada dataframe contiene un total de 5033 valores de closing price, por lo que se utilizaran los siguientes pasos de referencia y ventanas."
      ],
      "metadata": {
        "id": "J4QiiE6grZZK"
      }
    },
    {
      "cell_type": "code",
      "source": [
        "time_steps  = [0, 1000, 2000, 2800]\n",
        "\n",
        "#Configuraciones ventana entrada/salida: (n_steps_in, n_steps_out)\n",
        "window_configs = [\n",
        "    (1000, 100),\n",
        "    (100, 10),\n",
        "    (10, 2)\n",
        "]"
      ],
      "metadata": {
        "id": "C1HAXk8ftI00"
      },
      "execution_count": null,
      "outputs": []
    },
    {
      "cell_type": "markdown",
      "source": [
        "Cada ventana se compone de dos valores: n_steps_in y n_steps_out, el primero indica la cantidad de valores que utilizaremos para realizar cada predicción y el segundo la cantidad de valores que predeciremos a partir de los anteriores\n",
        "\n",
        "**Ejemplo:**\n",
        "\n",
        "time_step   = 0 |\n",
        "n_steps_in  = 1000 |\n",
        "n_steps_out = 100\n",
        "\n",
        "\n",
        "A partir del valor con **índice 0** se usarán los siguientes 1000 (**[0:999]**) para predecir los 100 posteriores a estos (**[1000:1100]**)"
      ],
      "metadata": {
        "id": "EpVzMEwVtfYr"
      }
    },
    {
      "cell_type": "markdown",
      "source": [
        "## 4. Configuración del modelo"
      ],
      "metadata": {
        "id": "mlsMFIdKwjR3"
      }
    },
    {
      "cell_type": "markdown",
      "source": [
        "El modelo propuesto corresponde a una ***Vector-Ouput Stacked LSTM***, cuyo nombre se puede diseccionar en las siguientes partes:\n",
        "\n",
        "***Vector-Output*** hace referencia a que la red devolverá un vector de predicciones en lugar de un único valor.\n",
        "\n",
        "***Stacked*** denota que se trata de una arquitectura con múltiples capas de neuronas LSTM, las cuales fungen como la \"memoria\" del modelo.\n",
        "\n",
        "En nuestro caso particular contamos con **dos** capas ocultas compuestas de **100** neuronas LSTM cada una, unidas a una ***Fully Conected Layer*** que devuelve el vector de predicciones"
      ],
      "metadata": {
        "id": "aTGMF7g3wkld"
      }
    },
    {
      "cell_type": "code",
      "source": [
        "# model = Sequential()\n",
        "# model.add(LSTM(100, activation='tanh', return_sequences=True, input_shape=(n_steps_in, 1)))\n",
        "# model.add(LSTM(100, activation='tanh'))\n",
        "# model.add(Dense(n_steps_out, activation='tanh'))\n",
        "# model.compile(optimizer='adam', loss='mse')"
      ],
      "metadata": {
        "id": "ef8DYrOvx2pz"
      },
      "execution_count": null,
      "outputs": []
    },
    {
      "cell_type": "markdown",
      "source": [
        "Como función de activación utilizamos la tangente hiperbólica dado que devuelve valores entre -1 y 1, manteniendo paridad con la normalización usada.\n",
        "![image.png](data:image/png;base64,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)\n",
        "\n",
        "La función de perdida considerada corresponde al *Mean Squared Error*, la más utilizada en regresiones, mide el promedio de los errores al cuadrado, es decir, la diferencia entre la predicción y el valor real que buscamos:\n",
        "\n",
        "Si ${\\displaystyle {\\hat {Y}}}$ es un vector de n predicciones y\n",
        "${\\displaystyle Y}$ es el vector de valores reales, entonces el (estimado) error cuadrático medio del predictor es:\n",
        "$${\\displaystyle \\operatorname {ECM} ={\\frac {1}{n}}\\sum _{i=1}^{n}(Y_{i}-{\\hat {Y_{i}}})^{2}}$$\n",
        "\n",
        "el objetivo de la red es minimizar dicha función."
      ],
      "metadata": {
        "id": "mQxO9xBIyHgf"
      }
    },
    {
      "cell_type": "markdown",
      "source": [
        "## 5. Resultados"
      ],
      "metadata": {
        "id": "93TBMoy29P4j"
      }
    },
    {
      "cell_type": "markdown",
      "source": [
        "Realizaremos dos predicciones por cada ventana indicada anteriormente, una utilizando los valores usados en el entrenamiento y otra en base a datos separados correspondientes al testeo para comparar los ajustes\n",
        "\n",
        "El siguiente script muestra los intervalos que el modelo utilizara dependiendo de los parámetros time_step, n_steps_in y n_steps_out\n"
      ],
      "metadata": {
        "id": "rZF3ebH3A2bP"
      }
    },
    {
      "cell_type": "code",
      "source": [
        "for n_steps_in, n_steps_out in window_configs:\n",
        "  for time_step in time_steps:\n",
        "    start_test = time_step + n_steps_in + n_steps_out\n",
        "    end_test = start_test + n_steps_in\n",
        "    print(f\"Time step = {time_step} - Ventana = {(n_steps_in, n_steps_out)}\")\n",
        "    print(f\"Rango de X_train: {time_step} -> {time_step + n_steps_in - 1}\")\n",
        "    print(f\"Rango de y_train: {time_step + n_steps_in} -> {time_step + n_steps_in + n_steps_out - 1}\")\n",
        "    print(f\"Rango de X_test: {start_test} -> {end_test - 1}\")\n",
        "    print(f\"Rango de y_test: {end_test} -> {end_test + n_steps_out}\")\n",
        "    print()\n"
      ],
      "metadata": {
        "colab": {
          "base_uri": "https://localhost:8080/"
        },
        "id": "SjP81sbPA1Lx",
        "outputId": "3ca6b603-87ff-4f4b-fdef-f2788ce1c85c"
      },
      "execution_count": null,
      "outputs": [
        {
          "output_type": "stream",
          "name": "stdout",
          "text": [
            "Time step = 0 - Ventana = (1000, 100)\n",
            "Rango de X_train: 0 -> 999\n",
            "Rango de y_train: 1000 -> 1099\n",
            "Rango de X_test: 1100 -> 2099\n",
            "Rango de y_test: 2100 -> 2200\n",
            "\n",
            "Time step = 1000 - Ventana = (1000, 100)\n",
            "Rango de X_train: 1000 -> 1999\n",
            "Rango de y_train: 2000 -> 2099\n",
            "Rango de X_test: 2100 -> 3099\n",
            "Rango de y_test: 3100 -> 3200\n",
            "\n",
            "Time step = 2000 - Ventana = (1000, 100)\n",
            "Rango de X_train: 2000 -> 2999\n",
            "Rango de y_train: 3000 -> 3099\n",
            "Rango de X_test: 3100 -> 4099\n",
            "Rango de y_test: 4100 -> 4200\n",
            "\n",
            "Time step = 2800 - Ventana = (1000, 100)\n",
            "Rango de X_train: 2800 -> 3799\n",
            "Rango de y_train: 3800 -> 3899\n",
            "Rango de X_test: 3900 -> 4899\n",
            "Rango de y_test: 4900 -> 5000\n",
            "\n",
            "Time step = 0 - Ventana = (100, 10)\n",
            "Rango de X_train: 0 -> 99\n",
            "Rango de y_train: 100 -> 109\n",
            "Rango de X_test: 110 -> 209\n",
            "Rango de y_test: 210 -> 220\n",
            "\n",
            "Time step = 1000 - Ventana = (100, 10)\n",
            "Rango de X_train: 1000 -> 1099\n",
            "Rango de y_train: 1100 -> 1109\n",
            "Rango de X_test: 1110 -> 1209\n",
            "Rango de y_test: 1210 -> 1220\n",
            "\n",
            "Time step = 2000 - Ventana = (100, 10)\n",
            "Rango de X_train: 2000 -> 2099\n",
            "Rango de y_train: 2100 -> 2109\n",
            "Rango de X_test: 2110 -> 2209\n",
            "Rango de y_test: 2210 -> 2220\n",
            "\n",
            "Time step = 2800 - Ventana = (100, 10)\n",
            "Rango de X_train: 2800 -> 2899\n",
            "Rango de y_train: 2900 -> 2909\n",
            "Rango de X_test: 2910 -> 3009\n",
            "Rango de y_test: 3010 -> 3020\n",
            "\n",
            "Time step = 0 - Ventana = (10, 2)\n",
            "Rango de X_train: 0 -> 9\n",
            "Rango de y_train: 10 -> 11\n",
            "Rango de X_test: 12 -> 21\n",
            "Rango de y_test: 22 -> 24\n",
            "\n",
            "Time step = 1000 - Ventana = (10, 2)\n",
            "Rango de X_train: 1000 -> 1009\n",
            "Rango de y_train: 1010 -> 1011\n",
            "Rango de X_test: 1012 -> 1021\n",
            "Rango de y_test: 1022 -> 1024\n",
            "\n",
            "Time step = 2000 - Ventana = (10, 2)\n",
            "Rango de X_train: 2000 -> 2009\n",
            "Rango de y_train: 2010 -> 2011\n",
            "Rango de X_test: 2012 -> 2021\n",
            "Rango de y_test: 2022 -> 2024\n",
            "\n",
            "Time step = 2800 - Ventana = (10, 2)\n",
            "Rango de X_train: 2800 -> 2809\n",
            "Rango de y_train: 2810 -> 2811\n",
            "Rango de X_test: 2812 -> 2821\n",
            "Rango de y_test: 2822 -> 2824\n",
            "\n"
          ]
        }
      ]
    },
    {
      "cell_type": "markdown",
      "source": [
        "En cada imagen se mostrarán dos graficas: las predicciones tanto de y_train como de y_test junto a los valores reales correspondientes.\n",
        "\n",
        "Se consideraron 3 métricas para cuantificar el desempeño del modelo:\n",
        "1. **Raíz del error cuadrático medio (RSME)**\n",
        "\n",
        "Métrica de *precisión* que mide la diferencia entre los valores predichos por un modelo y los valores reales, **siempre es positiva** y entre más cercano sea\n",
        "al cero, mejor es el ajuste\n",
        "\n",
        "Viene dado por la ecuacion:\n",
        "$$\\text{RMSE} = \\sqrt{\\frac{1}{n} \\sum_{i=1}^{n} (y_i - \\hat{y}_i)^2}$$\n",
        "\n",
        "- $y_i$ es el valor real.\n",
        "- $\\hat{y}_i$ es el valor predicho por el modelo.\n",
        "- $n$ es el número total de observaciones.\n",
        "\n",
        "2. **Coeficiente de determinación ($R^{2}$)**\n",
        "\n",
        "Coeficiente que determina la calidad del modelo para replicar los resultados, mide la proporción de la variabilidad de la variable dependiente que es explicada por el modelo:\n",
        "\n",
        "$$R^2 = 1 - \\frac{\\sum_{i=1}^{n} (y_i - \\hat{y}_i)^2}{\\sum_{i=1}^{n} (y_i - \\bar{y})^2}$$\n",
        "\n",
        "- $R^2 = 1$: Explica toda la variabilidad de los datos observados. La predicción es perfecta.\n",
        "- $R^2 = 0$: No explica ninguna variabilidad de los datos. Su desempeño es  como predecir la media de los valores reales.\n",
        "- $R^2 < 0$: El modelo es peor que una predicción basada en la media.\n",
        "\n",
        "Cuanto más cercano a 1 sea el valor de $R^2$, mejor será el ajuste.\n",
        "\n",
        "\n",
        "3. **Coeficiente de correlación de Spearman (PCC)**\n",
        "El coeficiente de Spearman $r_s$ mide la fuerza y la dirección de una relación monótona entre dos variables. Su valor está en el rango de $-1$ a $1$, y viene dado por:\n",
        "\n",
        "$$r_s = 1 - \\frac{6 \\sum d_i^2}{n(n^2 - 1)}$$\n",
        "- $d_i$ = $\\text{rango}(x_i)$ - $\\text{rango}(y_i)$\n",
        "- $n$: número de observaciones\n",
        "\n",
        "Se interpreta de la siguiente forma:\n",
        "\n",
        "- $r_s = 1$: Correlación monótona positiva perfecta. A medida que una variable aumenta, la otra también lo hace de manera consistente.\n",
        "- $r_s = -1$: Correlación monótona negativa perfecta. A medida que una variable aumenta, la otra disminuye de manera consistente.\n",
        "- $r_s = 0$: No hay correlación monótona."
      ],
      "metadata": {
        "id": "tM4yH3ZnF9y3"
      }
    },
    {
      "cell_type": "markdown",
      "source": [
        "En el siguiente bloque se debe agregar el path a la carpeta dónde se guardarán las imágenes"
      ],
      "metadata": {
        "id": "WniTXZ8kSqgJ"
      }
    },
    {
      "cell_type": "code",
      "source": [
        "#Ruta de la carpeta\n",
        "folder_path = '/content/drive/MyDrive/Prueba 01'\n",
        "\n",
        "#Crear la carpeta si no existe\n",
        "os.makedirs(folder_path, exist_ok=True)"
      ],
      "metadata": {
        "id": "LHAwNNCTSgeD"
      },
      "execution_count": null,
      "outputs": []
    },
    {
      "cell_type": "code",
      "execution_count": null,
      "metadata": {
        "id": "O0E6Li5nOP6D"
      },
      "outputs": [],
      "source": [
        "for df,ticker in zip(dataFrames,tickers):\n",
        "    for n_steps_in, n_steps_out in window_configs:\n",
        "        for time_step in time_steps:\n",
        "            #Aseguramos que contamos con suficientes datos para particionar\n",
        "            if time_step + n_steps_in + n_steps_out > len(df):\n",
        "                continue\n",
        "\n",
        "            #Extraemos la secuencia correspondiente a la ventana actual\n",
        "            seq = df['Close'].iloc[time_step : time_step + n_steps_in + n_steps_out].values\n",
        "\n",
        "            #Guardamos las fechas inicales y finales que acotan los intervalos\n",
        "            #utilizados para las predicciones\n",
        "            date_i_train = df.index[time_step + n_steps_in - 1].strftime('%d-%m-%Y')\n",
        "            date_f_train = df.index[time_step + n_steps_in + n_steps_out - 1].strftime('%d-%m-%Y')\n",
        "\n",
        "            date_i_test = df.index[n_steps_in + time_step + n_steps_in - 1].strftime('%d-%m-%Y')\n",
        "            date_f_test = df.index[n_steps_in + time_step + n_steps_in + n_steps_out - 1].strftime('%d-%m-%Y')\n",
        "\n",
        "            #Particionamos la secuencia utilizando la funcion split_sequence\n",
        "            #que devuelve las dos listas correspondientes\n",
        "            X_train, y_train = split_sequence(seq, n_steps_in, n_steps_out)\n",
        "            X_train = X_train.reshape((X_train.shape[0], X_train.shape[1], 1))\n",
        "\n",
        "            #Creamos un modelo nuevo para cada configuración\n",
        "            model = Sequential()\n",
        "            model.add(LSTM(100, activation='tanh', return_sequences=True, input_shape=(n_steps_in, 1)))\n",
        "            model.add(LSTM(100, activation='tanh'))\n",
        "            model.add(Dense(n_steps_out))\n",
        "            model.compile(optimizer='adam', loss='mse')\n",
        "\n",
        "            #Entrenamos\n",
        "            history = model.fit(X_train, y_train, epochs=20, verbose=1, validation_split=0)\n",
        "\n",
        "            #Realizamos la predicción sobre entrenamiento para comparar el\n",
        "            #ajuste\n",
        "            y_train_pred = model.predict(y_train, verbose=1)\n",
        "\n",
        "            #Métricas entrenamiento (global sobre todo el intervalo)\n",
        "            r2_train = r2_score(y_train.flatten(), y_train_pred.flatten())\n",
        "            spearmanr_train, _ = spearmanr(y_train.flatten(), y_train_pred.flatten())\n",
        "            rmse_train = np.sqrt(mean_squared_error(y_train.flatten(), y_train_pred.flatten()))\n",
        "            var = np.var(y_train.flatten())\n",
        "\n",
        "\n",
        "            # Graficar pérdida y ajuste sobre entrenamiento\n",
        "            plt.figure(figsize=(20, 6))\n",
        "            plt.subplot(1, 2, 1)\n",
        "            for i in range(min(5, len(y_train))):\n",
        "                plt.plot(y_train_pred[i], label='Real', linestyle='-', color='orange')\n",
        "                plt.plot(y_train[i], label='Prediccion', linestyle='--', color='blue')\n",
        "            plt.suptitle(f'Closing Price {ticker} - In:{n_steps_in}, Out:{n_steps_out}')\n",
        "            plt.title(f\"Train - Ventana {date_i_train} -> {date_f_train}\")\n",
        "            plt.xlabel('Tiempo (Dias)')\n",
        "            plt.ylabel('Precio normalizado (USD)')\n",
        "            plt.plot(0, label=f'RMSE: {rmse_train:.4f}', linestyle=\"\")\n",
        "            plt.plot(0, label=f'R²: {r2_train:.4f}', linestyle=\"\")\n",
        "            plt.plot(0, label=f'Spearman: {spearmanr_train:.4f}', linestyle=\"\")\n",
        "            plt.plot(0, label=f'Varianza: {var:.4f}', linestyle=\"\")\n",
        "            plt.legend()\n",
        "\n",
        "            #Preparamos la particion de prueba\n",
        "            start_test = time_step + n_steps_in + n_steps_out\n",
        "            end_test = start_test + n_steps_in\n",
        "            if end_test > len(df):\n",
        "                continue\n",
        "            X_test = df['Close'].iloc[start_test : end_test].values\n",
        "            X_test = X_test.reshape((1, n_steps_in, 1))\n",
        "\n",
        "            y_pred = model.predict(X_test, verbose=1)[0]\n",
        "            y_real = df['Close'].iloc[end_test : end_test + n_steps_out].values\n",
        "\n",
        "            #Metricas para la prueba\n",
        "            r2_test = r2_score(y_real, y_pred)\n",
        "            spearmanr_test, _ = spearmanr(np.squeeze(y_real), y_pred)\n",
        "            rmse_test = np.sqrt(mean_squared_error(y_real, y_pred))\n",
        "            var = np.var(y_pred.flatten())\n",
        "\n",
        "            plt.subplot(1, 2, 2)\n",
        "            plt.plot(y_real, label='Real')\n",
        "            plt.plot(y_pred, label='Prediccion')\n",
        "            plt.title(f'Test - Ventana {date_i_test} -> {date_f_test}')\n",
        "            plt.xlabel('Tiempo (Dias)')\n",
        "            plt.ylabel('Precio normalizado (USD)')\n",
        "            plt.plot(0, label=f'RMSE: {rmse_train:.4f}', linestyle=\"\")\n",
        "            plt.plot(0, label=f'R²: {r2_train:.4f}', linestyle=\"\")\n",
        "            plt.plot(0, label=f'Spearman: {spearmanr_test:.4f}', linestyle=\"\")\n",
        "            plt.plot(0, label=f'Varianza: {var:.4f}', linestyle=\"\")\n",
        "            plt.legend()\n",
        "\n",
        "            plt.tight_layout()\n",
        "            file_name = f\"{ticker}_In{n_steps_in}_Out{n_steps_out}_t{time_step}.png\"\n",
        "            file_path = os.path.join(folder_path, file_name)\n",
        "\n",
        "            #Guardamos la grafica en la carpeta indicada\n",
        "            plt.savefig(file_path)\n",
        "            plt.show()"
      ]
    }
  ]
}
